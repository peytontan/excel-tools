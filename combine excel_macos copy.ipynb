{
 "cells": [
  {
   "cell_type": "code",
   "execution_count": 1,
   "metadata": {},
   "outputs": [],
   "source": [
    "import pandas as pd\n",
    "import os\n",
    "import xlrd\n",
    "import openpyxl"
   ]
  },
  {
   "cell_type": "code",
   "execution_count": 2,
   "metadata": {},
   "outputs": [],
   "source": [
    "folder=\"/Volumes/Extreme SSD/testing excel/\"\n",
    "os.chdir(folder)\n",
    "files=os.listdir(folder)"
   ]
  },
  {
   "cell_type": "code",
   "execution_count": 33,
   "metadata": {},
   "outputs": [
    {
     "name": "stdout",
     "output_type": "stream",
     "text": [
      "Combined Excel file created successfully.\n"
     ]
    }
   ],
   "source": [
    "files_xlsx_format = [f for f in files if ((f[-5:] == '.xlsx') and (f[:2] != \"._\"))] #this is to not select mac's ._ metafiles\n",
    "\n",
    "# List of ExcelFile objects\n",
    "excel_files = [pd.ExcelFile(os.path.join(folder, name)) for name in files_xlsx_format]\n",
    "\n",
    "# Initialize an empty dictionary to store the combined data\n",
    "combined_data = {}\n",
    "\n",
    "# Iterate through each ExcelFile object\n",
    "for excel_file in excel_files:\n",
    "    # Create df_dict for each Excel file in the folder\n",
    "    df_dict = pd.read_excel(excel_file, sheet_name=None)\n",
    "\n",
    "    # Iterate through sheets in the current ExcelFile\n",
    "    for sheet_name, df in df_dict.items():#.items() will return a key-value pairs of the dictionary as tuples in a list.\n",
    "        # print(\"sheet name ->\", sheet_name,\"\\n\\n\\n\",\"df: \",df,'\\n')\n",
    "        if sheet_name in combined_data: \n",
    "            # Combine data for sheets with the same name\n",
    "            combined_data[sheet_name] = pd.concat([combined_data[sheet_name], df], ignore_index=True)\n",
    "        else:\n",
    "            # Sheet doesn't exist in combined_data yet\n",
    "            combined_data[sheet_name] = df\n",
    "\n",
    "# Write combined data to a new Excel file\n",
    "output_file_path = \"Merged Excel File.xlsx\"\n",
    "with pd.ExcelWriter(output_file_path) as writer:\n",
    "    for sheet_name, df_combined in combined_data.items():\n",
    "        df_combined.to_excel(writer, sheet_name=sheet_name, index=False)\n",
    "\n",
    "print(\"Combined Excel file created successfully.\")"
   ]
  },
  {
   "cell_type": "code",
   "execution_count": null,
   "metadata": {},
   "outputs": [],
   "source": []
  }
 ],
 "metadata": {
  "interpreter": {
   "hash": "8229b4eb5dde1e78d8a12767db03310c48646dabe9bb4d0984d0b5c438fd554c"
  },
  "kernelspec": {
   "display_name": "Python 3.8.8 64-bit ('base': conda)",
   "name": "python3"
  },
  "language_info": {
   "codemirror_mode": {
    "name": "ipython",
    "version": 3
   },
   "file_extension": ".py",
   "mimetype": "text/x-python",
   "name": "python",
   "nbconvert_exporter": "python",
   "pygments_lexer": "ipython3",
   "version": "3.9.7"
  },
  "orig_nbformat": 2
 },
 "nbformat": 4,
 "nbformat_minor": 2
}
