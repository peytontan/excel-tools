{
 "cells": [
  {
   "cell_type": "code",
   "execution_count": 1,
   "metadata": {},
   "outputs": [],
   "source": [
    "import pandas as pd\n",
    "import os\n",
    "import cloudinary\n",
    "import cloudinary.uploader\n",
    "import cloudinary.api\n",
    "import xlrd\n",
    "import openpyxl\n",
    "from dotenv import load_dotenv\n",
    "import requests"
   ]
  },
  {
   "cell_type": "code",
   "execution_count": 2,
   "metadata": {},
   "outputs": [],
   "source": [
    "load_dotenv() #to load environment variables from the .env file\n",
    "\n",
    "CLOUDINARY_API_KEY = os.getenv('CLOUDINARY_API_KEY')\n",
    "CLOUDINARY_API_SECRET = os.getenv('CLOUDINARY_API_SECRET')\n",
    "CLOUDINARY_CLOUD_NAME = os.getenv('CLOUDINARY_CLOUD_NAME')\n",
    "\n",
    "cloudinary_config=cloudinary.config(\n",
    "    cloud_name=CLOUDINARY_CLOUD_NAME,\n",
    "    api_key=CLOUDINARY_API_KEY,\n",
    "    api_secret=CLOUDINARY_API_SECRET,\n",
    ")"
   ]
  },
  {
   "cell_type": "code",
   "execution_count": 3,
   "metadata": {},
   "outputs": [
    {
     "name": "stdout",
     "output_type": "stream",
     "text": [
      "Combined Excel file created successfully.\n"
     ]
    }
   ],
   "source": [
    "subfolder_path=\"1692440479463\"\n",
    "\n",
    "file_links = []\n",
    "\n",
    "retrieve_files_in_cloudinary = cloudinary.api.resources(type=\"upload\",resource_type=\"raw\",prefix=f'excels/{subfolder_path}')\n",
    "\n",
    "for resource in retrieve_files_in_cloudinary['resources']:\n",
    "    file_links.append(resource[\"secure_url\"])\n",
    "\n",
    "# Initialize an empty dictionary to store the combined data\n",
    "combined_data = {}\n",
    "\n",
    "# Iterate through each ExcelFile object\n",
    "for excel_file in file_links:\n",
    "    get_file = pd.ExcelFile(requests.get(excel_file).content)\n",
    "    # Create df_dict for each Excel file in the folder\n",
    "    df_dict = pd.read_excel(get_file, sheet_name=None)\n",
    "\n",
    "    # Iterate through sheets in the current ExcelFile\n",
    "    for sheet_name, df in df_dict.items():#.items() will return a key-value pairs of the dictionary as tuples in a list.\n",
    "        # print(\"sheet name ->\", sheet_name,\"\\n\\n\\n\",\"df: \",df,'\\n')\n",
    "        if sheet_name in combined_data: \n",
    "            # Combine data for sheets with the same name\n",
    "            combined_data[sheet_name] = pd.concat([combined_data[sheet_name], df], ignore_index=True)\n",
    "        else:\n",
    "            # Sheet doesn't exist in combined_data yet\n",
    "            combined_data[sheet_name] = df\n",
    "\n",
    "# Write combined data to a new Excel file\n",
    "output_file_path = \"Merged Excel File.xlsx\"\n",
    "with pd.ExcelWriter(output_file_path) as writer:\n",
    "    for sheet_name, df_combined in combined_data.items():\n",
    "        df_combined.to_excel(writer, sheet_name=sheet_name, index=False)\n",
    "\n",
    "print(\"Combined Excel file created successfully.\")"
   ]
  },
  {
   "cell_type": "code",
   "execution_count": 6,
   "metadata": {},
   "outputs": [
    {
     "name": "stdout",
     "output_type": "stream",
     "text": [
      "Merged Excel file uploaded to Cloudinary: https://res.cloudinary.com/dbhjpkaca/raw/upload/v1692441661/excels/1692440479463/Merged_Excel_File_wkljai.xlsx\n"
     ]
    }
   ],
   "source": [
    "# Upload the merged Excel file to Cloudinary\n",
    "upload_merge_file_cloudinary = cloudinary.uploader.upload(output_file_path, resource_type=\"raw\",folder=f\"excels/{subfolder_path}\",use_filename=True)\n",
    "\n",
    "print(\"Merged Excel file uploaded to Cloudinary:\", upload_merge_file_cloudinary['secure_url'])"
   ]
  }
 ],
 "metadata": {
  "interpreter": {
   "hash": "8229b4eb5dde1e78d8a12767db03310c48646dabe9bb4d0984d0b5c438fd554c"
  },
  "kernelspec": {
   "display_name": "Python 3.8.8 64-bit ('base': conda)",
   "name": "python3"
  },
  "language_info": {
   "codemirror_mode": {
    "name": "ipython",
    "version": 3
   },
   "file_extension": ".py",
   "mimetype": "text/x-python",
   "name": "python",
   "nbconvert_exporter": "python",
   "pygments_lexer": "ipython3",
   "version": "3.10.10"
  },
  "orig_nbformat": 2
 },
 "nbformat": 4,
 "nbformat_minor": 2
}
